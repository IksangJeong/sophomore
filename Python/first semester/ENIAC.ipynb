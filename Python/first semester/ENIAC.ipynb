{
 "cells": [
  {
   "cell_type": "code",
   "execution_count": null,
   "metadata": {},
   "outputs": [],
   "source": [
    "# 필요한 라이브러리 임포트\n",
    "import torch\n",
    "import cv2\n",
    "from IPython.display import display, clear_output\n",
    "import matplotlib.pyplot as plt\n",
    "\n",
    "# YOLOv5 모델 로드\n",
    "model = torch.hub.load('ultralytics/yolov5', 'yolov5s')\n"
   ]
  },
  {
   "cell_type": "code",
   "execution_count": null,
   "metadata": {},
   "outputs": [],
   "source": [
    "# 카메라 설정\n",
    "cap = cv2.VideoCapture(0)  # USB 카메라 사용\n",
    "if not cap.isOpened():\n",
    "    print(\"Cannot open camera\")\n",
    "    exit()\n"
   ]
  },
  {
   "cell_type": "code",
   "execution_count": null,
   "metadata": {},
   "outputs": [],
   "source": [
    "import RPi.GPIO as GPIO\n",
    "import time\n",
    "\n",
    "GPIO.setmode(GPIO.BCM)\n",
    "GPIO.setup(17, GPIO.OUT)  # 예시: 오른쪽 모터\n",
    "GPIO.setup(18, GPIO.OUT)  # 예시: 왼쪽 모터\n",
    "\n",
    "def move_right():\n",
    "    GPIO.output(17, GPIO.HIGH)\n",
    "    GPIO.output(18, GPIO.LOW)\n",
    "    time.sleep(1)\n",
    "    GPIO.output(17, GPIO.LOW)\n",
    "\n",
    "def move_left():\n",
    "    GPIO.output(17, GPIO.LOW)\n",
    "    GPIO.output(18, GPIO.HIGH)\n",
    "    time.sleep(1)\n",
    "    GPIO.output(18, GPIO.LOW)\n",
    "\n",
    "def stop():\n",
    "    GPIO.output(17, GPIO.LOW)\n",
    "    GPIO.output(18, GPIO.LOW)\n"
   ]
  },
  {
   "cell_type": "code",
   "execution_count": null,
   "metadata": {},
   "outputs": [],
   "source": [
    "try:\n",
    "    while True:\n",
    "        ret, frame = cap.read()\n",
    "        if not ret:\n",
    "            print(\"Can't receive frame (stream end?). Exiting ...\")\n",
    "            break\n",
    "\n",
    "        \n",
    "        results = model(frame)\n",
    "\n",
    "\n",
    "        detected_objects = results.pandas().xyxy[0]\n",
    "\n",
    "\n",
    "        for index, row in detected_objects.iterrows():\n",
    "            if row['name'] in ['person', 'car', 'bicycle']:  # 장애물로 간주할 객체는 해보고 정하기 벽, 코너 등등 학습시켜서 해야 할지도 모름\n",
    "                x_center = (row['xmin'] + row['xmax']) / 2\n",
    "                if x_center < frame.shape[1] / 3:\n",
    "                    print(\"Obstacle detected on the left, moving right\")\n",
    "                    move_right()\n",
    "                elif x_center > 2 * frame.shape[1] / 3:\n",
    "                    print(\"Obstacle detected on the right, moving left\")\n",
    "                    move_left()\n",
    "                else:\n",
    "                    print(\"Obstacle detected in the center, stopping\")\n",
    "                    stop()\n",
    "\n",
    "        \n",
    "        clear_output(wait=True)\n",
    "        plt.imshow(cv2.cvtColor(frame, cv2.COLOR_BGR2RGB))\n",
    "        plt.axis('off')\n",
    "        display(plt.gcf())\n",
    "\n",
    "except KeyboardInterrupt:\n",
    "    print(\"Interrupted by user\")\n",
    "\n",
    "finally:\n",
    "    cap.release()\n",
    "    cv2.destroyAllWindows()\n",
    "    GPIO.cleanup()\n"
   ]
  }
 ],
 "metadata": {
  "language_info": {
   "name": "python"
  }
 },
 "nbformat": 4,
 "nbformat_minor": 2
}
